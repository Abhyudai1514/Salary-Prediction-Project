{
 "cells": [
  {
   "cell_type": "markdown",
   "id": "737d0ba7",
   "metadata": {},
   "source": [
    "#### Salary Prediction Web App – Project Process\n",
    "\n",
    "##### 1) Collected and preprocessed workplace-related data for salary prediction.\n",
    "##### 2) Performed exploratory data analysis (EDA) to understand feature relationships.\n",
    "##### 3) Selected relevant features influencing salary (e.g., Years at company, Satisfaction Level, Average monthly hours etc.).\n",
    "##### 4) Built a regression model using Scikit-learn (e.g., Linear Regression or Random Forest).\n",
    "##### 5) Evaluated model performance using metrics like Mean Squared Error (MSE).\n",
    "##### 6) Saved the trained model using joblib or pickle for deployment.\n",
    "##### 7) Created an interactive web app using Streamlit to collect user input.\n",
    "##### 8) Integrated the model into the Streamlit app for real-time predictions.\n",
    "##### 9) Deployed the app locally.\n"
   ]
  },
  {
   "cell_type": "code",
   "execution_count": null,
   "id": "dbd64aa9",
   "metadata": {},
   "outputs": [],
   "source": [
    "import pandas as pd\n",
    "data = pd.read_csv(\"employee_attrition_data.csv\")"
   ]
  },
  {
   "cell_type": "code",
   "execution_count": null,
   "id": "06917a8b",
   "metadata": {},
   "outputs": [],
   "source": [
    "data.tail()"
   ]
  },
  {
   "cell_type": "code",
   "execution_count": null,
   "id": "4e5ccf6e",
   "metadata": {},
   "outputs": [],
   "source": [
    "data.info()"
   ]
  },
  {
   "cell_type": "code",
   "execution_count": null,
   "id": "3cd4c14a",
   "metadata": {},
   "outputs": [],
   "source": [
    "data.isna().sum()"
   ]
  },
  {
   "cell_type": "code",
   "execution_count": null,
   "id": "93045695",
   "metadata": {},
   "outputs": [],
   "source": [
    "data.duplicated().sum()"
   ]
  },
  {
   "cell_type": "code",
   "execution_count": null,
   "id": "9396b65b",
   "metadata": {},
   "outputs": [],
   "source": [
    "data.columns"
   ]
  },
  {
   "cell_type": "markdown",
   "id": "c2f54f5b",
   "metadata": {},
   "source": [
    "##### Dropping A Column"
   ]
  },
  {
   "cell_type": "code",
   "execution_count": null,
   "id": "dac4151d",
   "metadata": {},
   "outputs": [],
   "source": [
    "data.drop(columns=\"Employee_ID\",inplace=True)\n",
    "data.head()"
   ]
  },
  {
   "cell_type": "markdown",
   "id": "074e020f",
   "metadata": {},
   "source": [
    "#### Grouping Columns\n",
    "##### i) Grouping two columns"
   ]
  },
  {
   "cell_type": "code",
   "execution_count": null,
   "id": "2577651d",
   "metadata": {},
   "outputs": [],
   "source": [
    "import matplotlib.pyplot as plt"
   ]
  },
  {
   "cell_type": "code",
   "execution_count": null,
   "id": "ae2531a6",
   "metadata": {},
   "outputs": [],
   "source": [
    "data[\"Gender\"].value_counts().plot(kind=\"pie\")\n",
    "plt.ylabel(\"\")\n",
    "plt.title(\"Gender counts of Employees\")\n",
    "plt.show()"
   ]
  },
  {
   "cell_type": "code",
   "execution_count": null,
   "id": "77ea3601",
   "metadata": {},
   "outputs": [],
   "source": [
    "data.groupby(\"Job_Title\")[\"Salary\"].mean().sort_values(ascending = False)"
   ]
  },
  {
   "cell_type": "code",
   "execution_count": null,
   "id": "8674d92a",
   "metadata": {},
   "outputs": [],
   "source": [
    "data.groupby(\"Job_Title\")[\"Salary\"].mean().sort_values(ascending = False).plot(kind =\"bar\")\n",
    "plt.title(\"Average salary by job title\")\n",
    "plt.ylabel(\"Mean Salary\")\n",
    "plt.show()"
   ]
  },
  {
   "cell_type": "markdown",
   "id": "7d1e4710",
   "metadata": {},
   "source": [
    "##### ii) Grouping multiple columns"
   ]
  },
  {
   "cell_type": "code",
   "execution_count": null,
   "id": "25cb0763",
   "metadata": {},
   "outputs": [],
   "source": [
    "data.head()"
   ]
  },
  {
   "cell_type": "code",
   "execution_count": null,
   "id": "9e36de77",
   "metadata": {},
   "outputs": [],
   "source": [
    "data.groupby([\"Department\",\"Promotion_Last_5Years\",])[\"Salary\"].mean()"
   ]
  },
  {
   "cell_type": "markdown",
   "id": "4f34ba84",
   "metadata": {},
   "source": [
    "#### Index Resetting"
   ]
  },
  {
   "cell_type": "code",
   "execution_count": null,
   "id": "0db2cbe7",
   "metadata": {},
   "outputs": [],
   "source": [
    "data.groupby([\"Department\",\"Promotion_Last_5Years\",])[\"Salary\"].mean().reset_index()"
   ]
  },
  {
   "cell_type": "code",
   "execution_count": null,
   "id": "21e03e3e",
   "metadata": {},
   "outputs": [],
   "source": [
    "data.describe()"
   ]
  },
  {
   "cell_type": "code",
   "execution_count": null,
   "id": "a63b9c25",
   "metadata": {},
   "outputs": [],
   "source": [
    "data[\"Salary\"].describe()"
   ]
  },
  {
   "cell_type": "code",
   "execution_count": null,
   "id": "52e0d416",
   "metadata": {},
   "outputs": [],
   "source": [
    "data.columns"
   ]
  },
  {
   "cell_type": "code",
   "execution_count": null,
   "id": "3904b9e5",
   "metadata": {},
   "outputs": [],
   "source": [
    "data.head()"
   ]
  },
  {
   "cell_type": "code",
   "execution_count": null,
   "id": "2ac6d8ea",
   "metadata": {},
   "outputs": [],
   "source": [
    "X= data[[\"Years_at_Company\",\"Satisfaction_Level\", \"Average_Monthly_Hours\"]]\n",
    "y=data[[\"Salary\"]]"
   ]
  },
  {
   "cell_type": "markdown",
   "id": "68bf33cd",
   "metadata": {},
   "source": [
    "#### Train Test Split"
   ]
  },
  {
   "cell_type": "code",
   "execution_count": null,
   "id": "3409a205",
   "metadata": {},
   "outputs": [],
   "source": [
    "from sklearn.model_selection import train_test_split\n",
    "X_train , X_test , y_train , y_test = train_test_split(X,y,test_size=0.2)"
   ]
  },
  {
   "cell_type": "markdown",
   "id": "b03a1eac",
   "metadata": {},
   "source": [
    "#### Scaling"
   ]
  },
  {
   "cell_type": "code",
   "execution_count": null,
   "id": "572352cf",
   "metadata": {},
   "outputs": [],
   "source": [
    "X"
   ]
  },
  {
   "cell_type": "code",
   "execution_count": null,
   "id": "a393090f",
   "metadata": {},
   "outputs": [],
   "source": [
    "from sklearn.preprocessing import StandardScaler\n",
    "scaler = StandardScaler()\n",
    "X_train =scaler.fit_transform(X_train)"
   ]
  },
  {
   "cell_type": "code",
   "execution_count": null,
   "id": "c748cab3",
   "metadata": {},
   "outputs": [],
   "source": [
    "X_train"
   ]
  },
  {
   "cell_type": "code",
   "execution_count": null,
   "id": "6685fe8b",
   "metadata": {},
   "outputs": [],
   "source": [
    "# to prevent dataleakage we need to import joblib\n",
    "import joblib\n",
    "joblib.dump(scaler,\"scaler.pkl\")\n"
   ]
  },
  {
   "cell_type": "code",
   "execution_count": null,
   "id": "1fe107e0",
   "metadata": {},
   "outputs": [],
   "source": [
    "X_test = scaler.fit_transform(X_test)"
   ]
  },
  {
   "cell_type": "code",
   "execution_count": null,
   "id": "0f16ffa1",
   "metadata": {},
   "outputs": [],
   "source": [
    "X_test.shape"
   ]
  },
  {
   "cell_type": "markdown",
   "id": "43ccd20d",
   "metadata": {},
   "source": [
    "# Training ML models"
   ]
  },
  {
   "cell_type": "markdown",
   "id": "dffbfc9b",
   "metadata": {},
   "source": [
    "#### 1) Linear Regression ML Model"
   ]
  },
  {
   "cell_type": "code",
   "execution_count": null,
   "id": "48104dc8",
   "metadata": {},
   "outputs": [],
   "source": [
    "# But before Training we need to define the function that gives the regression results.\n",
    "# To avoid writing mean Squarred erroe, mean absolute error\n",
    "\n",
    "import numpy as np\n",
    "from sklearn.metrics import mean_absolute_error,mean_squared_error\n",
    "\n",
    "def results(predictions):\n",
    "    print(\"Mean absolute error on model is {}\".format(mean_absolute_error(y_test,predictions)))\n",
    "    print(\"Root mean squared error on model is {}\".format(mean_squared_error(y_test,predictions)))\n",
    "\n",
    "\n"
   ]
  },
  {
   "cell_type": "code",
   "execution_count": null,
   "id": "f1927a84",
   "metadata": {},
   "outputs": [],
   "source": [
    "# Now Linear Regression\n",
    "\n",
    "from sklearn.linear_model import LinearRegression\n",
    "lr = LinearRegression()\n",
    "lr.fit(X_train , y_train)"
   ]
  },
  {
   "cell_type": "code",
   "execution_count": null,
   "id": "bf3d482d",
   "metadata": {},
   "outputs": [],
   "source": [
    "# predicting using linear regression\n",
    "lr.predict(X_test)\n",
    "predictionslr = lr.predict(X_test)\n",
    "results(predictionslr)"
   ]
  },
  {
   "cell_type": "markdown",
   "id": "3de58b2e",
   "metadata": {},
   "source": [
    "#### 2) Support Vector Regression ML Model"
   ]
  },
  {
   "cell_type": "code",
   "execution_count": null,
   "id": "4cb598bc",
   "metadata": {},
   "outputs": [],
   "source": [
    "from sklearn.model_selection import GridSearchCV\n",
    "from sklearn.svm import SVR\n",
    "svrmodel = SVR()    "
   ]
  },
  {
   "cell_type": "code",
   "execution_count": null,
   "id": "a27989e2",
   "metadata": {},
   "outputs": [],
   "source": [
    "param_gridsvr = {\"C\":[0.01,0.1,0.5],\"degree\":[2,3,4], \"kernel\":[\"linear\",\"rbf\",\"poly\"]}   # defining the paramaters\n",
    "gridsvr= GridSearchCV(svrmodel,param_gridsvr)                                             # initializing the grid search"
   ]
  },
  {
   "cell_type": "code",
   "execution_count": null,
   "id": "4657ef0a",
   "metadata": {},
   "outputs": [],
   "source": [
    "gridsvr.fit(X_train, y_train.values.ravel())"
   ]
  },
  {
   "cell_type": "code",
   "execution_count": null,
   "id": "8413139b",
   "metadata": {},
   "outputs": [],
   "source": [
    "gridsvr.best_params_"
   ]
  },
  {
   "cell_type": "code",
   "execution_count": null,
   "id": "3ae53b6e",
   "metadata": {},
   "outputs": [],
   "source": [
    "predictionssvr = gridsvr.predict(X_test)\n",
    "results(predictionssvr)"
   ]
  },
  {
   "cell_type": "markdown",
   "id": "63fc1b1c",
   "metadata": {},
   "source": [
    "#### 3) Tree based Random Forest Regression  ML model"
   ]
  },
  {
   "cell_type": "code",
   "execution_count": null,
   "id": "3efc576e",
   "metadata": {},
   "outputs": [],
   "source": [
    "from sklearn.ensemble import RandomForestRegressor\n",
    "rfrmodel = RandomForestRegressor()\n",
    "param_gridrfr = {\"n_estimators\":[2,3,4,5,6],\"max_depth\":[5,10,15]}"
   ]
  },
  {
   "cell_type": "code",
   "execution_count": null,
   "id": "1e8b4b8f",
   "metadata": {},
   "outputs": [],
   "source": [
    "gridrfr = GridSearchCV(rfrmodel, param_gridrfr)\n",
    "gridrfr.fit(X_train,y_train.values.ravel())"
   ]
  },
  {
   "cell_type": "code",
   "execution_count": null,
   "id": "b7404e66",
   "metadata": {},
   "outputs": [],
   "source": [
    "gridrfr.best_params_"
   ]
  },
  {
   "cell_type": "code",
   "execution_count": null,
   "id": "8d806dc9",
   "metadata": {},
   "outputs": [],
   "source": [
    "predictionsrfr = gridrfr.predict(X_test)\n",
    "results(predictionsrfr)"
   ]
  },
  {
   "cell_type": "code",
   "execution_count": null,
   "id": "41a46f18",
   "metadata": {},
   "outputs": [],
   "source": [
    "gridsvr # because mean squarred error is lesss as compared to others ML model"
   ]
  },
  {
   "cell_type": "code",
   "execution_count": null,
   "id": "9da0d83e",
   "metadata": {},
   "outputs": [],
   "source": [
    "joblib.dump(gridsvr,\"model.pkl\")"
   ]
  },
  {
   "cell_type": "code",
   "execution_count": null,
   "id": "f99f8771",
   "metadata": {},
   "outputs": [],
   "source": [
    "X.columns"
   ]
  }
 ],
 "metadata": {
  "kernelspec": {
   "display_name": "base",
   "language": "python",
   "name": "python3"
  },
  "language_info": {
   "codemirror_mode": {
    "name": "ipython",
    "version": 3
   },
   "file_extension": ".py",
   "mimetype": "text/x-python",
   "name": "python",
   "nbconvert_exporter": "python",
   "pygments_lexer": "ipython3",
   "version": "3.12.4"
  }
 },
 "nbformat": 4,
 "nbformat_minor": 5
}
